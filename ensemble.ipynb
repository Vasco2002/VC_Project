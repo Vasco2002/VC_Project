{
 "cells": [
  {
   "cell_type": "code",
   "execution_count": 1,
   "id": "ce1a1664",
   "metadata": {},
   "outputs": [],
   "source": [
    "import torch\n",
    "import torchvision\n",
    "\n",
    "import matplotlib.pyplot as plt\n",
    "import numpy as np\n",
    "import time\n",
    "\n",
    "# importing a module with utilities for displaying stats and data\n",
    "import sys\n",
    "sys.path.insert(1, 'util')\n",
    "import vcpi_util"
   ]
  },
  {
   "cell_type": "code",
   "execution_count": 2,
   "id": "ba36fe6f",
   "metadata": {},
   "outputs": [
    {
     "name": "stdout",
     "output_type": "stream",
     "text": [
      "2.3.0+cpu\n",
      "cpu\n"
     ]
    }
   ],
   "source": [
    "device = torch.device(\"cuda:0\" if torch.cuda.is_available() else 'cpu')\n",
    "print(torch.__version__)\n",
    "print(device)"
   ]
  },
  {
   "cell_type": "markdown",
   "id": "f70f4b24",
   "metadata": {},
   "source": [
    "## Settings"
   ]
  },
  {
   "cell_type": "code",
   "execution_count": 3,
   "id": "5956ecb3",
   "metadata": {},
   "outputs": [],
   "source": [
    "PATH_TEST_SET = \"data/test_images\"\n",
    "IMG_SIZE = 32\n",
    "BATCH_SIZE = 64\n",
    "\n",
    "model_paths = [\n",
    "    'models/model12fr.pt',\n",
    "    'models/model13fr.pt',\n",
    "    'models/model17fr.pt',\n",
    "    'models/model11fr.pt',\n",
    "    'models/model9fr.pt',\n",
    "]"
   ]
  },
  {
   "cell_type": "markdown",
   "id": "91e92c35",
   "metadata": {},
   "source": [
    "## Aux"
   ]
  },
  {
   "cell_type": "code",
   "execution_count": 4,
   "id": "6cbf24f7",
   "metadata": {},
   "outputs": [],
   "source": [
    "def evaluate(model, data_loader):\n",
    "\n",
    "    # sets the model in evaluation mode.\n",
    "    # although our model does not have layers which behave differently during training and evaluation\n",
    "    # this is a good practice as the models architecture may change in the future\n",
    "    model.eval()\n",
    "\n",
    "    correct = 0\n",
    "    \n",
    "    with torch.no_grad():\n",
    "        for i, (images, targets) in enumerate(data_loader):\n",
    "\n",
    "            # forward pass, compute the output of the model for the current batch\n",
    "            outputs = model(images.to(device))\n",
    "\n",
    "            # \"max\" returns a namedtuple (values, indices) where values is the maximum \n",
    "            # value of each row of the input tensor in the given dimension dim; \n",
    "            # indices is the index location of each maximum value found (argmax).\n",
    "            # the argmax effectively provides the predicted class number        \n",
    "            _, preds = torch.max(outputs, dim=1)\n",
    "\n",
    "            correct += (preds == targets).sum()\n",
    "\n",
    "    return (correct / len(data_loader.dataset)).item()\n",
    "\n",
    "\n",
    "class Conv(torch.nn.Module):\n",
    "\n",
    "    def __init__(self, num_classes):\n",
    "        super().__init__()\n",
    "        self.conv1 = torch.nn.Conv2d(3, 16, 3)\n",
    "        self.bn1 = torch.nn.BatchNorm2d(16)\n",
    "        self.relu1 = torch.nn.ReLU()\n",
    "\n",
    "        self.conv2 = torch.nn.Conv2d(16, 32, 3)\n",
    "        self.bn2 = torch.nn.BatchNorm2d(32)\n",
    "        self.relu2 = torch.nn.ReLU()\n",
    "\n",
    "        self.maxpool1 = torch.nn.MaxPool2d(2)\n",
    "\n",
    "\n",
    "        self.conv3 = torch.nn.Conv2d(32, 48, 3)\n",
    "        self.bn3 = torch.nn.BatchNorm2d(48)\n",
    "        self.relu3 = torch.nn.ReLU()\n",
    "\n",
    "        self.conv4 = torch.nn.Conv2d(48, 48, 3)\n",
    "        self.bn4 = torch.nn.BatchNorm2d(48)\n",
    "        self.relu4 = torch.nn.ReLU()\n",
    "\n",
    "        self.maxpool2 = torch.nn.MaxPool2d(2)\n",
    "\n",
    "        self.fc1 = torch.nn.Linear(1200, num_classes)\n",
    "        \n",
    "\n",
    "    def forward(self, x):    \n",
    "        \n",
    "        # input = (bs, 3, 32, 32)\n",
    "        x = self.conv1(x) # -> (bs, 16, 30, 30)\n",
    "        x = self.bn1(x)\n",
    "        x = self.relu1(x)\n",
    "        x = self.conv2(x) # -> (bs, 32, 28, 28)\n",
    "        x = self.bn2(x)\n",
    "        x = self.relu2(x)\n",
    "        x = self.maxpool1(x) # -> (bs, 32, 14, 14)\n",
    "        \n",
    "        x = self.conv3(x) # -> (bs, 48, 12, 12)\n",
    "        x = self.bn3(x)\n",
    "        x = self.relu3(x)\n",
    "        x = self.conv4(x) # -> (bs, 48, 10, 10)\n",
    "        x = self.bn4(x)\n",
    "        x = self.relu4(x)\n",
    "        x = self.maxpool2(x) # -> (bs, 48, 5, 5)\n",
    "        \n",
    "        x = torch.flatten(x,1) # -> (bs, 48 * 5 * 5 = 1200)\n",
    "        x = self.fc1(x)        # -> (bs, num_classes)\n",
    "\n",
    "        return(x)\n",
    "\n"
   ]
  },
  {
   "cell_type": "markdown",
   "id": "c806d5c4",
   "metadata": {},
   "source": [
    "## Load Test Dataset"
   ]
  },
  {
   "cell_type": "code",
   "execution_count": 5,
   "id": "6b8bd064",
   "metadata": {},
   "outputs": [],
   "source": [
    "from torchvision.transforms import v2\n",
    "\n",
    "test_transform = v2.Compose([\n",
    "        v2.ToImage(),\n",
    "        v2.Resize((IMG_SIZE, IMG_SIZE)),\n",
    "        v2.ToDtype(torch.float32, scale=True),\n",
    "])\n",
    "\n",
    "test_set = torchvision.datasets.ImageFolder(root=PATH_TEST_SET, transform = test_transform)\n",
    "test_loader = torch.utils.data.DataLoader(test_set, batch_size = BATCH_SIZE)"
   ]
  },
  {
   "cell_type": "markdown",
   "id": "6707038f",
   "metadata": {},
   "source": [
    "## Load Models"
   ]
  },
  {
   "cell_type": "code",
   "execution_count": 6,
   "id": "8f64157d",
   "metadata": {},
   "outputs": [],
   "source": [
    "\n",
    "\n",
    "models = []\n",
    "accs = []\n",
    "\n",
    "for mpaths in model_paths:\n",
    "    model = Conv(len(test_set.classes))\n",
    "    model.load_state_dict(torch.load(mpaths,map_location=torch.device('cpu'))['model'])\n",
    "    models.append(model)\n",
    "    model.to(device)\n",
    "    accs.append(evaluate(model,test_loader))\n",
    "    "
   ]
  },
  {
   "cell_type": "markdown",
   "id": "44f80c0c",
   "metadata": {},
   "source": [
    "## Models Accuracy "
   ]
  },
  {
   "cell_type": "code",
   "execution_count": 7,
   "id": "4fa5d961",
   "metadata": {},
   "outputs": [
    {
     "name": "stdout",
     "output_type": "stream",
     "text": [
      "0.9889627814292907 0.9917656183242798 0.9874901175498962\n"
     ]
    },
    {
     "data": {
      "text/plain": [
       "(0.97, 1.0)"
      ]
     },
     "execution_count": 7,
     "metadata": {},
     "output_type": "execute_result"
    },
    {
     "data": {
      "image/png": "[encoded data removed]",
      "text/plain": [
       "<Figure size 640x480 with 1 Axes>"
      ]
     },
     "metadata": {},
     "output_type": "display_data"
    }
   ],
   "source": [
    "index = [i for i in range(len(accs))]\n",
    "\n",
    "plt.bar(index, accs)\n",
    "print(np.mean(accs), np.max(accs), np.min(accs))\n",
    "plt.ylim(0.97,1.0)"
   ]
  },
  {
   "cell_type": "markdown",
   "id": "e345767b",
   "metadata": {},
   "source": [
    "## Ensemble"
   ]
  },
  {
   "cell_type": "code",
   "execution_count": 8,
   "id": "1d25a2d8",
   "metadata": {},
   "outputs": [],
   "source": [
    "def get_labels_logits_and_preds(models):\n",
    "\n",
    "    with torch.no_grad():\n",
    "        logits = [[] for _ in models]\n",
    "        labels = []\n",
    "\n",
    "        for images, labs in test_loader:\n",
    "\n",
    "            images = images.to(device)\n",
    "            labels.extend(labs)\n",
    "            \n",
    "            for i in range(len(models)):\n",
    "                logits[i].extend(models[i](images).cpu())\n",
    "\n",
    "\n",
    "    return labels, logits\n",
    "\n",
    "labels, logits = get_labels_logits_and_preds(models)"
   ]
  },
  {
   "cell_type": "code",
   "execution_count": 9,
   "id": "57da9ee6",
   "metadata": {},
   "outputs": [],
   "source": [
    "preds = [[] for _ in range(len(labels))]\n",
    "\n",
    "for index in range(len(labels)):\n",
    "    preds[index] = [np.argmax(logits[m][index].cpu().numpy()) \\\n",
    "                    for m in range(len(models))]"
   ]
  },
  {
   "cell_type": "markdown",
   "id": "0f9e2509",
   "metadata": {},
   "source": [
    "### Hard Voting"
   ]
  },
  {
   "cell_type": "code",
   "execution_count": 13,
   "id": "aab3870f",
   "metadata": {},
   "outputs": [
    {
     "name": "stdout",
     "output_type": "stream",
     "text": [
      "Total:  12630\n",
      "All correct:  12246\n",
      "All incorrect:  6\n",
      "Majority correct:  306\n",
      "Tie Vote:  25\n",
      "Majority Wrong:  47\n",
      "Percentage right:  0.9938242280285036\n"
     ]
    }
   ],
   "source": [
    "import collections \n",
    "\n",
    "def get_stats(labels, class_preds):\n",
    "\n",
    "    all_correct = 0\n",
    "    all_incorrect = 0\n",
    "    maj_vote = 0\n",
    "    maj_wrong = 0\n",
    "    tie = 0\n",
    "    count = 0\n",
    "\n",
    "    for k in range(len(labels)):\n",
    "\n",
    "        counter = collections.Counter(class_preds[k])\n",
    "        if len(counter) == 1:\n",
    "            if counter.most_common(1)[0][0] == labels[k]:\n",
    "                all_correct += 1\n",
    "            else:\n",
    "                all_incorrect += 1\n",
    "        else:\n",
    "            aux = counter.most_common(2)\n",
    "            if aux[0][1] > aux[1][1] and aux[0][0] == labels[k]:\n",
    "                maj_vote += 1\n",
    "            if aux[0][1] > aux[1][1] and aux[0][0] != labels[k]:\n",
    "                maj_wrong += 1\n",
    "            elif aux[0][1] == aux[1][1]:\n",
    "                tie += 1\n",
    "\n",
    "        count += 1 \n",
    "        \n",
    "    return [count, all_correct, all_incorrect, maj_vote, tie, maj_wrong]\n",
    "    \n",
    "    \n",
    "res = get_stats(labels, preds)\n",
    "print('Total: ', res[0])\n",
    "print('All correct: ', res[1])\n",
    "print('All incorrect: ', res[2])\n",
    "print('Majority correct: ', res[3])\n",
    "print('Tie Vote: ', res[4])\n",
    "print('Majority Wrong: ', res[5])\n",
    "print('Percentage right: ', (res[1]+res[3])/res[0])"
   ]
  },
  {
   "cell_type": "markdown",
   "id": "6a2c4383",
   "metadata": {},
   "source": [
    "### Soft Voting"
   ]
  },
  {
   "cell_type": "code",
   "execution_count": 11,
   "id": "5c59f863",
   "metadata": {},
   "outputs": [],
   "source": [
    "avg_preds = [[] for _ in range(len(labels))]\n",
    "\n",
    "for index in range(len(labels)):\n",
    "    l = np.zeros(len(test_set.classes))\n",
    "    for m in range(len(models)):\n",
    "        l += logits[m][index].cpu().numpy()\n",
    "    l/=len(models)    \n",
    "    avg_preds[index] = np.argmax(l)"
   ]
  },
  {
   "cell_type": "code",
   "execution_count": 14,
   "id": "2ca0aa8f",
   "metadata": {},
   "outputs": [
    {
     "name": "stdout",
     "output_type": "stream",
     "text": [
      "Total:  12630\n",
      "Correct:  12577\n",
      "Incorrect:  53\n",
      "Percentage right:  0.995803642121932\n"
     ]
    }
   ],
   "source": [
    "\n",
    "correct = 0\n",
    "incorrect = 0\n",
    "\n",
    "for i in range(len(avg_preds)):\n",
    "    if avg_preds[i] == labels[i]:\n",
    "        correct += 1\n",
    "    else:\n",
    "        incorrect += 1\n",
    "\n",
    "print('Total: ', len(labels))\n",
    "print('Correct: ', correct)\n",
    "print('Incorrect: ', incorrect)\n",
    "print('Percentage right: ', correct/len(labels))"
   ]
  },
  {
   "cell_type": "code",
   "execution_count": null,
   "id": "474d48b8",
   "metadata": {},
   "outputs": [],
   "source": []
  }
 ],
 "metadata": {
  "kernelspec": {
   "display_name": "myenv",
   "language": "python",
   "name": "myenv"
  },
  "language_info": {
   "codemirror_mode": {
    "name": "ipython",
    "version": 3
   },
   "file_extension": ".py",
   "mimetype": "text/x-python",
   "name": "python",
   "nbconvert_exporter": "python",
   "pygments_lexer": "ipython3",
   "version": "3.11.2"
  }
 },
 "nbformat": 4,
 "nbformat_minor": 5
}
